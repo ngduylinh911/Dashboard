{
 "cells": [
  {
   "cell_type": "markdown",
   "id": "a862141c-0e57-4eb4-bd7d-c11e735d6104",
   "metadata": {},
   "source": [
    "# INFLUENZA Dashboard"
   ]
  },
  {
   "cell_type": "markdown",
   "id": "4a0cedf0-c39c-4404-b935-43cdde57385d",
   "metadata": {},
   "source": [
    "## Load essential tools required from Jupyter Notebook"
   ]
  },
  {
   "cell_type": "code",
   "execution_count": null,
   "id": "cd96c1ad-f29d-4543-8fdd-f2b2406f157d",
   "metadata": {},
   "outputs": [],
   "source": [
    "from IPython.display import clear_output\n",
    "import ipywidgets as wdg\n",
    "import requests\n",
    "import time\n",
    "import pandas as pd\n",
    "import matplotlib.pyplot as plt\n",
    "import matplotlib.dates as mdates\n",
    "import json\n",
    "# an iPython  \"magic\" that enables the embedding of matplotlib output\n",
    "%matplotlib inline\n",
    "# make figures larger\n",
    "plt.rcParams['figure.dpi'] = 100"
   ]
  },
  {
   "cell_type": "markdown",
   "id": "615b8071-2dc9-4e7f-9135-113ed838c208",
   "metadata": {},
   "source": [
    "## Download all data for Influenza testing posibility, hospital admissions and ICUHDU admissions"
   ]
  },
  {
   "cell_type": "code",
   "execution_count": 4,
   "id": "588be8f9-196e-430a-bc7f-634c078b4ded",
   "metadata": {},
   "outputs": [],
   "source": [
    "class APIwrapper:\n",
    "    # class variables shared among all instances\n",
    "    _access_point=\"https://api.ukhsa-dashboard.data.gov.uk\"\n",
    "    _last_access=0.0 # time of last api access\n",
    "    \n",
    "    def __init__(self, theme, sub_theme, topic, geography_type, geography, metric):\n",
    "        \"\"\" Init the APIwrapper object, constructing the endpoint from the structure\n",
    "        parameters \"\"\"\n",
    "        # build the path with all the required structure parameters\n",
    "        url_path=(f\"/themes/{theme}/sub_themes/{sub_theme}/topics/{topic}/geography_types/\" +\n",
    "                  f\"{geography_type}/geographies/{geography}/metrics/{metric}\")\n",
    "        # our starting API endpoint\n",
    "        self._start_url=APIwrapper._access_point+url_path\n",
    "        self._filters=None\n",
    "        self._page_size=-1\n",
    "        # will contain the number of items\n",
    "        self.count=None\n",
    "\n",
    "    def get_page(self, filters={}, page_size=5):\n",
    "        \"\"\" Access the API and download the next page of data. Sets the count\n",
    "        attribute to the total number of items available for this query. Changing\n",
    "        filters or page_size will cause get_page to restart from page 1. Rate\n",
    "        limited to three request per second. The page_size parameter sets the number\n",
    "        of data points in one response page (maximum 365); use the default value \n",
    "        for debugging your structure and filters, increase when you start looping \n",
    "        over all pages. \"\"\"\n",
    "        # Check page size is within range\n",
    "        if page_size>365:\n",
    "            raise ValueError(\"Max supported page size is 365\")\n",
    "        # restart from first page if page or filters have changed\n",
    "        if filters!=self._filters or page_size!=self._page_size:\n",
    "            self._filters=filters\n",
    "            self._page_size=page_size\n",
    "            self._next_url=self._start_url\n",
    "        # signal the end of data condition\n",
    "        if self._next_url==None: \n",
    "            return [] # we already fetched the last page\n",
    "        # simple rate limiting to avoid bans\n",
    "        curr_time=time.time() # Unix time: number of seconds since the Epoch\n",
    "        deltat=curr_time-APIwrapper._last_access\n",
    "        if deltat<0.33: # max 3 requests/second\n",
    "            time.sleep(0.33-deltat)\n",
    "        APIwrapper._last_access=curr_time\n",
    "        # build parameter dictionary by removing all the None\n",
    "        # values from filters and adding page_size\n",
    "        parameters={x: y for x, y in filters.items() if y!=None}\n",
    "        parameters['page_size']=page_size\n",
    "        # the page parameter is already included in _next_url.\n",
    "        # This is the API access. Response is a dictionary with various keys.\n",
    "        # the .json() method decodes the response into Python object (dictionaries,\n",
    "        # lists; 'null' values are translated as None).\n",
    "        response = requests.get(self._next_url, params=parameters).json()\n",
    "        # update url so we'll fetch the next page\n",
    "        self._next_url=response['next']\n",
    "        self.count=response['count']\n",
    "        # data are in the nested 'results' list\n",
    "        return response['results'] "
   ]
  },
  {
   "cell_type": "markdown",
   "id": "2e48a779-f62d-4743-919d-cfd641e45d5d",
   "metadata": {},
   "source": [
    "### All Influenza Positive Test in 2024"
   ]
  },
  {
   "cell_type": "code",
   "execution_count": 5,
   "id": "3eff3f0a-61f9-4a89-8576-ec328db76db8",
   "metadata": {},
   "outputs": [],
   "source": [
    "\n",
    "\n",
    "filters={\"stratum\" : None, # Smallest subgroup a metric can be broken down into e.g. ethnicity, testing pillar\n",
    "         \"age\": None, # Smallest subgroup a metric can be broken down into e.g. 15_44 for the age group of 15-44 years\n",
    "         \"sex\": None, #  Patient gender e.g. 'm' for Male, 'f' for Female or 'all' for all genders\n",
    "         \"year\": 2024, #  Epi year of the metrics value (important for annual metrics) e.g. 2020\n",
    "         \"month\": None, # Epi month of the metric value (important for monthly metrics) e.g. 12\n",
    "         \"epiweek\" :None, # Epi week of the metric value (important for weekly metrics) e.g. 30\n",
    "         \"date\" : None, # The date which this metric value was recorded in the format YYYY-MM-DD e.g. 2020-07-20\n",
    "         \"in_reporting_delay_period\": None # Boolean indicating whether the data point is considered to be subject to retrospective updates\n",
    "        }\n",
    "\n",
    "\n",
    "structure={\"theme\": \"infectious_disease\", \n",
    "           \"sub_theme\": \"respiratory\",\n",
    "           \"topic\": \"Influenza\",\n",
    "           \"geography_type\": \"Nation\", \n",
    "           \"geography\": \"England\"}\n",
    "structure[\"metric\"]=\"influenza_testing_positivityByWeek\"\n",
    "\n",
    "api=APIwrapper(**structure)\n",
    "influenzaTest2024=[]\n",
    "# page=1\n",
    "while True:\n",
    "    data=api.get_page(filters,page_size = 300)\n",
    "    # print(f\"Pages retrieved: {page}\")\n",
    "    if data==[]:\n",
    "        break\n",
    "    influenzaTest2024.extend(data)\n",
    "    # page+=1\n",
    "import json\n",
    "with open(\"influenzaTest2024.json\", \"wt\") as OUTF:\n",
    "    json.dump(influenzaTest2024, OUTF)\n",
    "print('Data for Influenza testing posibility has been saved as \"influenzaTest2024.json\"')"
   ]
  },
  {
   "cell_type": "markdown",
   "id": "e22fa10b-044e-44bd-bed1-d447e8b9c9d2",
   "metadata": {},
   "source": [
    "### All Influenza hospital admission in 2024"
   ]
  },
  {
   "cell_type": "code",
   "execution_count": 6,
   "id": "c8c69db5-33de-499c-82bb-994c5a103a2b",
   "metadata": {},
   "outputs": [],
   "source": [
    "\n",
    "\n",
    "filters={\"stratum\" : None, # Smallest subgroup a metric can be broken down into e.g. ethnicity, testing pillar\n",
    "         \"age\": None, # Smallest subgroup a metric can be broken down into e.g. 15_44 for the age group of 15-44 years\n",
    "         \"sex\": None, #  Patient gender e.g. 'm' for Male, 'f' for Female or 'all' for all genders\n",
    "         \"year\": 2024, #  Epi year of the metrics value (important for annual metrics) e.g. 2020\n",
    "         \"month\": None, # Epi month of the metric value (important for monthly metrics) e.g. 12\n",
    "         \"epiweek\" :None, # Epi week of the metric value (important for weekly metrics) e.g. 30\n",
    "         \"date\" : None, # The date which this metric value was recorded in the format YYYY-MM-DD e.g. 2020-07-20\n",
    "         \"in_reporting_delay_period\": None # Boolean indicating whether the data point is considered to be subject to retrospective updates\n",
    "        }\n",
    "\n",
    "\n",
    "structure={\"theme\": \"infectious_disease\", \n",
    "           \"sub_theme\": \"respiratory\",\n",
    "           \"topic\": \"Influenza\",\n",
    "           \"geography_type\": \"Nation\", \n",
    "           \"geography\": \"England\"}\n",
    "structure[\"metric\"]=\"influenza_healthcare_hospitalAdmissionRateByWeek\"\n",
    "\n",
    "api=APIwrapper(**structure)\n",
    "influenzaHospitalAdmission2024=[]\n",
    "# page=1\n",
    "while True:\n",
    "    data=api.get_page(filters,page_size = 300)\n",
    "    # print(f\"Pages retrieved: {page}\")\n",
    "    if data==[]:\n",
    "        break\n",
    "    influenzaHospitalAdmission2024.extend(data)\n",
    "    # page+=1\n",
    "import json\n",
    "with open(\"influenzaHospitalAdmission2024.json\", \"wt\") as OUTF:\n",
    "    json.dump(influenzaHospitalAdmission2024, OUTF)\n",
    "\n",
    "print('Data for Influenza hospital admissions has been saved as \"influenzaHospitalAdmission2024.json\"')"
   ]
  },
  {
   "cell_type": "markdown",
   "id": "802138eb-c0a7-48f7-89df-9dbc871ecce3",
   "metadata": {},
   "source": [
    "### All Influenza ICUHDU admission in 2024"
   ]
  },
  {
   "cell_type": "code",
   "execution_count": 7,
   "id": "af2686c6-4729-4b19-9ef8-57e8070d530b",
   "metadata": {},
   "outputs": [],
   "source": [
    "filters={\"stratum\" : None, # Smallest subgroup a metric can be broken down into e.g. ethnicity, testing pillar\n",
    "         \"age\": None, # Smallest subgroup a metric can be broken down into e.g. 15_44 for the age group of 15-44 years\n",
    "         \"sex\": None, #  Patient gender e.g. 'm' for Male, 'f' for Female or 'all' for all genders\n",
    "         \"year\": 2024, #  Epi year of the metrics value (important for annual metrics) e.g. 2020\n",
    "         \"month\": None, # Epi month of the metric value (important for monthly metrics) e.g. 12\n",
    "         \"epiweek\" :None, # Epi week of the metric value (important for weekly metrics) e.g. 30\n",
    "         \"date\" : None, # The date which this metric value was recorded in the format YYYY-MM-DD e.g. 2020-07-20\n",
    "         \"in_reporting_delay_period\": None # Boolean indicating whether the data point is considered to be subject to retrospective updates\n",
    "        }\n",
    "\n",
    "\n",
    "structure={\"theme\": \"infectious_disease\", \n",
    "           \"sub_theme\": \"respiratory\",\n",
    "           \"topic\": \"Influenza\",\n",
    "           \"geography_type\": \"Nation\", \n",
    "           \"geography\": \"England\"}\n",
    "structure[\"metric\"]=\"influenza_healthcare_ICUHDUadmissionRateByWeek\"\n",
    "\n",
    "api=APIwrapper(**structure)\n",
    "influenzaICUHDUAdmission2024=[]\n",
    "# page=1\n",
    "while True:\n",
    "    data=api.get_page(filters,page_size = 300)\n",
    "    # print(f\"Pages retrieved: {page}\")\n",
    "    if data==[]:\n",
    "        break\n",
    "    influenzaICUHDUAdmission2024.extend(data)\n",
    "    # page+=1\n",
    "import json\n",
    "with open(\"influenzaICUHDUAdmission2024.json\", \"wt\") as OUTF:\n",
    "    json.dump(influenzaICUHDUAdmission2024, OUTF)\n",
    "print('Data for Influenza ICUHDU admissions has been saved as \"influenzaICUHDUAdmission2024.json\"')"
   ]
  },
  {
   "cell_type": "markdown",
   "id": "ea154625-5bea-4d15-af55-2c3b904fc0de",
   "metadata": {},
   "source": [
    "## Creat time series data"
   ]
  },
  {
   "cell_type": "code",
   "execution_count": 10,
   "id": "ef2ddbcb-3508-4413-9508-30bbffc74811",
   "metadata": {},
   "outputs": [],
   "source": [
    "with open(\"influenzaTest2024.json\", \"rt\") as INFILE:\n",
    "    test=json.load(INFILE)\n",
    "with open(\"influenzaHospitalAdmission2024.json\", \"rt\") as INFILE:\n",
    "    hospitalAdmission=json.load(INFILE)\n",
    "with open(\"influenzaICUHDUAdmission2024.json\", \"rt\") as INFILE:\n",
    "    ICUAdmission=json.load(INFILE)"
   ]
  },
  {
   "cell_type": "code",
   "execution_count": 11,
   "id": "e71ffd20-b8d5-4eae-a5f3-dd07b097704c",
   "metadata": {},
   "outputs": [],
   "source": [
    "data={}\n",
    "for dataset in [test, hospitalAdmission, ICUAdmission]:\n",
    "    for entry in dataset:\n",
    "        date=entry['date']\n",
    "        metric=entry['metric']\n",
    "        value=entry['metric_value']\n",
    "        if date not in data:\n",
    "            data[date]={}\n",
    "        data[date][metric]=value"
   ]
  },
  {
   "cell_type": "code",
   "execution_count": 12,
   "id": "a62171d6-7257-4f99-aa69-407de7b0c1af",
   "metadata": {},
   "outputs": [],
   "source": [
    "dates=list(data.keys())\n",
    "dates.sort()"
   ]
  },
  {
   "cell_type": "code",
   "execution_count": 24,
   "id": "f2737dda-5691-4a89-bdf5-46643db48010",
   "metadata": {},
   "outputs": [
    {
     "name": "stdout",
     "output_type": "stream",
     "text": [
      "The time frame will be:\n",
      "2024-01-01 00:00:00  to  2024-10-07 00:00:00\n"
     ]
    }
   ],
   "source": [
    "def parse_date(datestring):\n",
    "    \"\"\" Convert a date string into a pandas datetime object \"\"\"\n",
    "    return pd.to_datetime(datestring, format=\"%Y-%m-%d\")\n",
    "startdate=parse_date(dates[0])\n",
    "enddate=parse_date(dates[-1])\n",
    "print('The time frame will be:')\n",
    "print (startdate, ' to ', enddate)\n",
    "index=pd.date_range(startdate, enddate, freq='D')\n",
    "timeseriesdf=pd.DataFrame(index=index, columns=['Testing_Posibility', 'Hospital_Adminssion', 'ICUHDU_Admission'])\n"
   ]
  },
  {
   "cell_type": "code",
   "execution_count": 26,
   "id": "a0d5c31f-0a46-444b-ac89-cba3f629c711",
   "metadata": {},
   "outputs": [
    {
     "name": "stdout",
     "output_type": "stream",
     "text": [
      "The table with data for time frame:\n",
      "\n",
      "            Testing_Posibility  Hospital_Adminssion  ICUHDU_Admission\n",
      "2024-01-01                4.23                 4.86              0.12\n",
      "2024-01-02                0.00                 0.00              0.00\n",
      "2024-01-03                0.00                 0.00              0.00\n",
      "2024-01-04                0.00                 0.00              0.00\n",
      "2024-01-05                0.00                 0.00              0.00\n",
      "...                        ...                  ...               ...\n",
      "2024-10-03                0.00                 0.00              0.00\n",
      "2024-10-04                0.00                 0.00              0.00\n",
      "2024-10-05                0.00                 0.00              0.00\n",
      "2024-10-06                0.00                 0.00              0.00\n",
      "2024-10-07                1.88                 0.54              0.02\n",
      "\n",
      "[281 rows x 3 columns]\n"
     ]
    }
   ],
   "source": [
    "metrics ={'Testing_Posibility': 'influenza_testing_positivityByWeek',\n",
    "          'Hospital_Adminssion': 'influenza_healthcare_hospitalAdmissionRateByWeek',\n",
    "          'ICUHDU_Admission': 'influenza_healthcare_ICUHDUadmissionRateByWeek'}\n",
    "\n",
    "for date, entry in data.items(): # each entry is a dictionary with cases, admissions and deaths\n",
    "    pd_date=parse_date(date) # convert to Pandas format\n",
    "    for column in ['Testing_Posibility', 'Hospital_Adminssion', 'ICUHDU_Admission']: \n",
    "        metric_name=metrics[column]\n",
    "        # do not assume all values are there for every date - if a value is not available, insert a 0.0\n",
    "        value= entry.get(metric_name, 0.0)\n",
    "        # this is the way you access a specific location in the dataframe - use .loc\n",
    "        # and put index,column in a single set of [ ]\n",
    "        timeseriesdf.loc[pd_date, column]=value\n",
    "            \n",
    "# # fill in any remaining \"holes\" due to missing dates\n",
    "timeseriesdf.fillna(0.0, inplace=True)\n",
    "print('The table with data for time frame:\\n')\n",
    "print(timeseriesdf)\n"
   ]
  },
  {
   "cell_type": "markdown",
   "id": "ee905ff7-f73b-4be7-8d70-fd383c777f58",
   "metadata": {},
   "source": [
    "## Plotting the data"
   ]
  },
  {
   "cell_type": "markdown",
   "id": "475a657d-8fc7-4259-adfe-2875232aa323",
   "metadata": {},
   "source": [
    "### Lineage"
   ]
  },
  {
   "cell_type": "code",
   "execution_count": 15,
   "id": "fdb02754-16ea-4102-b546-9e62cf65f32b",
   "metadata": {
    "slideshow": {
     "slide_type": "slide"
    }
   },
   "outputs": [
    {
     "data": {
      "image/png": "[encoded data removed]",
      "text/plain": [
       "<Figure size 640x480 with 1 Axes>"
      ]
     },
     "metadata": {},
     "output_type": "display_data"
    }
   ],
   "source": [
    "ax=timeseriesdf.plot() # easy peasy...\n",
    "ax.set_title('Influenza testing posibility, hospital admissions and ICUHDU admissions');"
   ]
  },
  {
   "cell_type": "markdown",
   "id": "6bcce2dd-d48f-434d-9f90-5f04c13445ca",
   "metadata": {},
   "source": [
    "### Log scale"
   ]
  },
  {
   "cell_type": "code",
   "execution_count": 16,
   "id": "44ceadb0-625e-4e2f-96e6-cc32cb68e4c0",
   "metadata": {},
   "outputs": [
    {
     "data": {
      "image/png": "[encoded data removed]",
      "text/plain": [
       "<Figure size 640x480 with 1 Axes>"
      ]
     },
     "metadata": {},
     "output_type": "display_data"
    }
   ],
   "source": [
    "ax=timeseriesdf.plot(logy=True) # ...lemon squeezy\n",
    "ax.set_title('Influenza testing posibility, hospital admissions and ICUHDU admissions (log scale)');"
   ]
  },
  {
   "cell_type": "markdown",
   "id": "df9187db-7a7d-48ff-a112-ed7ab5c667dd",
   "metadata": {},
   "source": [
    "### Getting the data into pickle"
   ]
  },
  {
   "cell_type": "code",
   "execution_count": 17,
   "id": "b6955123-b1ee-46df-a55b-6ae23f457a24",
   "metadata": {},
   "outputs": [],
   "source": [
    "timeseriesdf.to_pickle(\"influenzaTimeseriesdf.pkl\")"
   ]
  },
  {
   "cell_type": "markdown",
   "id": "b167ec3d-78cf-44af-a882-8f8ef07e900b",
   "metadata": {},
   "source": [
    "## Adding interactive control"
   ]
  },
  {
   "cell_type": "code",
   "execution_count": 19,
   "id": "1cd6bbdf-f045-41f6-be8b-b5f330c9a9db",
   "metadata": {},
   "outputs": [],
   "source": [
    "timeseriesdf=pd.read_pickle(\"influenzaTimeseriesdf.pkl\")"
   ]
  },
  {
   "cell_type": "code",
   "execution_count": 21,
   "id": "71f131e2-f0d2-4504-b6d8-0a4c05f4304c",
   "metadata": {},
   "outputs": [
    {
     "data": {
      "application/vnd.jupyter.widget-view+json": {
       "model_id": "77098839714e40a59d34a309d03d4528",
       "version_major": 2,
       "version_minor": 0
      },
      "text/plain": [
       "HBox(children=(SelectMultiple(description='Stats:', index=(0, 1, 2), options=('Testing_Posibility', 'Hospital_…"
      ]
     },
     "metadata": {},
     "output_type": "display_data"
    },
    {
     "data": {
      "application/vnd.jupyter.widget-view+json": {
       "model_id": "40e806f6ced4404e927d4a42d10b653c",
       "version_major": 2,
       "version_minor": 0
      },
      "text/plain": [
       "Output()"
      ]
     },
     "metadata": {},
     "output_type": "display_data"
    }
   ],
   "source": [
    "series=wdg.SelectMultiple(\n",
    "    options=['Testing_Posibility', 'Hospital_Adminssion', 'ICUHDU_Admission'],\n",
    "    value=['Testing_Posibility', 'Hospital_Adminssion', 'ICUHDU_Admission'],\n",
    "    rows=3,\n",
    "    description='Stats:',\n",
    "    disabled=False\n",
    ")\n",
    "\n",
    "scale=wdg.RadioButtons(\n",
    "    options=['linear', 'log'],\n",
    "#   value='pineapple', # Defaults to 'pineapple'\n",
    "#   layout={'width': 'max-content'}, # If the items' names are long\n",
    "    description='Scale:',\n",
    "    disabled=False\n",
    ")\n",
    "\n",
    "# try replacing HBox with a VBox\n",
    "controls=wdg.HBox([series, scale])\n",
    "\n",
    "def timeseries_graph(gcols, gscale):\n",
    "    if gscale=='linear':\n",
    "        logscale=False\n",
    "    else:\n",
    "        logscale=True\n",
    "    ncols=len(gcols)\n",
    "    if ncols>0:\n",
    "        timeseriesdf[list(gcols)].plot(logy=logscale)\n",
    "        plt.show() # important - graphs won't update if this is missing \n",
    "    else:\n",
    "        print(\"Click to select data for graph\")\n",
    "        print(\"(CTRL-Click to select more than one category)\")\n",
    "\n",
    "# keep calling timeseries_graph(gcols=value_of_series, gscale=value_of_scale); \n",
    "# capture output in widget graph   \n",
    "graph=wdg.interactive_output(timeseries_graph, {'gcols': series, 'gscale': scale})\n",
    "\n",
    "display(controls, graph)"
   ]
  },
  {
   "cell_type": "markdown",
   "id": "fbe2fa02-206d-4d72-bf56-18a62b608257",
   "metadata": {},
   "source": [
    "**Author and License:** Based on UK Government [data](https://ukhsa-dashboard.data.gov.uk/) published by the [UK Health Security Agency](https://www.gov.uk/government/organisations/uk-health-security-agency) and on the [DIY Disease Tracking Dashboard Kit](https://github.com/fsmeraldi/diy-covid19dash) by Fabrizio Smeraldi. Released under the [GNU GPLv3.0 or later](https://www.gnu.org/licenses/)."
   ]
  },
  {
   "cell_type": "code",
   "execution_count": null,
   "id": "52ba83dc-02ca-46ab-bcbe-8f20da24d2c6",
   "metadata": {},
   "outputs": [],
   "source": []
  }
 ],
 "metadata": {
  "kernelspec": {
   "display_name": "Python 3 (ipykernel)",
   "language": "python",
   "name": "python3"
  },
  "language_info": {
   "codemirror_mode": {
    "name": "ipython",
    "version": 3
   },
   "file_extension": ".py",
   "mimetype": "text/x-python",
   "name": "python",
   "nbconvert_exporter": "python",
   "pygments_lexer": "ipython3",
   "version": "3.11.9"
  }
 },
 "nbformat": 4,
 "nbformat_minor": 5
}
